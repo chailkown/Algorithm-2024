{
 "cells": [
  {
   "cell_type": "markdown",
   "metadata": {},
   "source": [
    "### 1)문제정의\n",
    "병렬 정렬 알고리즘 (정렬된 두 리스트의 병합)"
   ]
  },
  {
   "cell_type": "markdown",
   "metadata": {},
   "source": [
    "### 2)알고리즘 설명\n",
    "1. left부터 mid까지의 첫 번째 부분 배열과 mid + 1부터 right까지의 두 번째 부분 배열을 비교하여 작은 원소를 sorted 배열에 차례대로 저장합니다.  \n",
    "2. 두 부분 배열 중 한 쪽의 모든 원소를 다 사용한 경우 남은 원소들을 sorted 배열에 복사합니다.  \n",
    "3. sorted 배열에 저장된 값을 다시 A 배열에 복사하여 정렬된 결과를 얻습니다."
   ]
  },
  {
   "cell_type": "markdown",
   "metadata": {},
   "source": [
    "### 3)손으로 푼 문제\n",
    "![poster](./AL5.2-1.jpg)"
   ]
  },
  {
   "cell_type": "markdown",
   "metadata": {},
   "source": [
    "### 4)코드 개요\n"
   ]
  },
  {
   "cell_type": "markdown",
   "metadata": {},
   "source": []
  }
 ],
 "metadata": {
  "language_info": {
   "name": "python"
  }
 },
 "nbformat": 4,
 "nbformat_minor": 2
}
