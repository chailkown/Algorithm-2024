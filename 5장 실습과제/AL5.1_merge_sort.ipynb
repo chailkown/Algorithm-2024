{
 "cells": [
  {
   "cell_type": "markdown",
   "metadata": {},
   "source": [
    "### 1)문제정의\n",
    "병렬 정렬 알고리즘 "
   ]
  },
  {
   "cell_type": "markdown",
   "metadata": {},
   "source": [
    "### 2)알고리즘 설명\n",
    "분할: 주어진 배열을 중간 지점을 기준으로 두 개의 하위 배열(부분 배열)로 분할합니다.   이 때, 배열을 절반으로 나눕니다.  \n",
    "  \n",
    "정복: 각 하위 배열에 대해 재귀적으로 합병 정렬을 수행합니다. 이 과정을 하위 배열의   크기가 1 또는 0이 될 때까지 반복합니다.   \n",
    "  \n",
    "병합: 정렬된 두 개의 하위 배열을 합병하여 하나의 정렬된 배열을 만듭니다. 이 때, 두   개의 하위 배열을 비교하면서 작은 원소부터 차례대로 새로운 배열에 넣습니다.\n"
   ]
  },
  {
   "cell_type": "markdown",
   "metadata": {},
   "source": [
    "### 3)손으로 푼 문제\n",
    "![poster](./AL5.1-1.jpg)"
   ]
  },
  {
   "cell_type": "markdown",
   "metadata": {},
   "source": [
    "### 4)코드 개요\n",
    "1. merge_sort 함수는 주어진 배열의 일부분을 정렬하는데 사용된다. left와 right는   현재 정렬할 부분 배열의 시작과 끝 인덱스를 나타내고   \n",
    "2. if left < right: 현재 부분 배열이 하나의 원소보다 큰 경우에만 정렬을 수행한다.  \n",
    "3. mid = (left + right) // 2: 현재 부분 배열을 중간 지점을 기준으로 두 개의 하위  배열로 분할하기 위해 중간 인덱스를 계산  \n",
    "4. merge_sort(A, left, mid): 왼쪽 부분 배열을 재귀적으로 정렬  \n",
    "5. merge_sort(A, mid + 1, right): 오른쪽 부분 배열을 재귀적으로 정렬  \n",
    "6. merge(A, left, mid, right): 정렬된 두 개의 하위 배열을 합병하고 정렬  "
   ]
  },
  {
   "cell_type": "markdown",
   "metadata": {},
   "source": [
    "### 5)알고리즘 코드\n"
   ]
  },
  {
   "cell_type": "code",
   "execution_count": null,
   "metadata": {},
   "outputs": [],
   "source": [
    "def merge_sort(A, left, right):\n",
    "    if left < right:\n",
    "        mid = (left + right) // 2\n",
    "        merge_sort(A, left, mid)\n",
    "        merge_sort(A, mid + 1, right)\n",
    "        merge(A, left, mid, right)"
   ]
  },
  {
   "cell_type": "markdown",
   "metadata": {},
   "source": [
    "### 6)테스트 코드"
   ]
  },
  {
   "cell_type": "code",
   "execution_count": null,
   "metadata": {},
   "outputs": [],
   "source": [
    "def merge(A, left, mid, right):\n",
    "    # 왼쪽 부분 배열과 오른쪽 부분 배열을 복사합니다.\n",
    "    L = A[left:mid + 1]\n",
    "    R = A[mid + 1:right + 1]\n",
    "\n",
    "    i = j = 0\n",
    "    k = left\n",
    "\n",
    "    # 두 부분 배열을 합병하여 정렬된 배열 A에 저장합니다.\n",
    "    while i < len(L) and j < len(R):\n",
    "        if L[i] <= R[j]:\n",
    "            A[k] = L[i]  # 작은 값부터 배열 A에 저장합니다.\n",
    "            i += 1\n",
    "        else:\n",
    "            A[k] = R[j]\n",
    "            j += 1\n",
    "        k += 1\n",
    "\n",
    "    # 남은 원소들을 배열 A에 복사합니다.\n",
    "    while i < len(L):\n",
    "        A[k] = L[i]\n",
    "        i += 1\n",
    "        k += 1\n",
    "\n",
    "    while j < len(R):\n",
    "        A[k] = R[j]\n",
    "        j += 1\n",
    "        k += 1\n",
    "\n",
    "def merge_sort(A, left, right):\n",
    "    # 재귀적으로 부분 배열을 정렬하고 합병합니다.\n",
    "    if left < right:\n",
    "        mid = (left + right) // 2\n",
    "        merge_sort(A, left, mid)  # 왼쪽 부분 배열을 정렬합니다.\n",
    "        merge_sort(A, mid + 1, right)  # 오른쪽 부분 배열을 정렬합니다.\n",
    "        merge(A, left, mid, right)  # 정렬된 부분 배열을 합병합니다.\n",
    "\n",
    "def test_merge_sort():\n",
    "    # 테스트를 위한 배열을 정의하고 합병 정렬을 수행합니다.\n",
    "    A = [3, 7, 2, 5, 4, 1, 6]\n",
    "    print(\"정렬 전 배열:\", A)\n",
    "    merge_sort(A, 0, len(A) - 1)\n",
    "    print(\"정렬 후 배열:\", A)\n",
    "\n",
    "test_merge_sort()\n"
   ]
  },
  {
   "cell_type": "markdown",
   "metadata": {},
   "source": [
    "### 7)수행 결과\n",
    "![poster](./AL5.1-2.png)"
   ]
  },
  {
   "cell_type": "markdown",
   "metadata": {},
   "source": [
    "### 8)복잡도 계산\n",
    "분할 단계에서 배열을 반으로 나누는 과정은 각 단계에서 O(1)의 시간이 소요됩니다. 재귀 호출을 통해 배열의 크기를 반으로 나누기 때문에 재귀 호출의 깊이는 O(log n)입니다. 각 단계에서 합병 단계에서는 두 부분 배열을 합병하는데 O(n)의 시간이 소요됩니다.\n",
    "따라서 전체 시간 복잡도는 O(n log n)입니다."
   ]
  }
 ],
 "metadata": {
  "language_info": {
   "name": "python"
  }
 },
 "nbformat": 4,
 "nbformat_minor": 2
}
