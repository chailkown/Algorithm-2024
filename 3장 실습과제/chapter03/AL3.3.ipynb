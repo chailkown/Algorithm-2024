{
 "cells": [
  {
   "cell_type": "markdown",
   "metadata": {},
   "source": [
    "### 1)문제정의\n",
    "문자열 매칭 문제\n",
    "길이가 n인 입력 문자열 T와 길이가 m인 패턴 문자열 P가 있다. T에서\n",
    "가장 먼저 나타나는 P의 위치를 찾아라. 패턴이 없으면 -1을 반환하라."
   ]
  },
  {
   "cell_type": "markdown",
   "metadata": {},
   "source": [
    "### 2)알고리즘 설명\n",
    "입력 문자열 T의 처음부터 시작하여 패턴 문자열 P과 비교합니다.\n",
    "T의 각 위치에서부터 P와 일치하는지 확인합니다.\n",
    "만약 일치하는 부분을 찾으면 해당 위치를 반환합니다. 만약 일치하는 부분이 없다면 -1을 반환합니다."
   ]
  },
  {
   "cell_type": "markdown",
   "metadata": {},
   "source": [
    "### 3)손으로 푼 문제\n",
    "![poster](./chapter3.jpg)\n"
   ]
  },
  {
   "cell_type": "markdown",
   "metadata": {},
   "source": [
    "### 4)코드 개요\n",
    "입력 변수 T와 P  \n",
    "출력 변수 Result  \n",
    "\n",
    "1. 입력으로 문자열 T와 패턴 문자열 P를 받는다.  \n",
    "2. 문자열 T의 길이를 n, 패턴 문자열 P의 길이를 m이라고 할 때, 문자열 T에서 패턴 P가 처음으로 출현하는 위치를 찾는다.  \n",
    "    for i in range(n - m + 1):  \n",
    "        j = 0  \n",
    "3. 문자열 T를 처음부터 끝까지 한 번 순회하면서 패턴 P와 일치하는 부분을 찾기.  \n",
    "    while j < m and T[i + j] == P[j]:  \n",
    "            j += 1  \n",
    "4. T의 각 위치에서부터 P와 일치하는지 확인하고 만약 일치하는 부분을 찾으면 해당 위치를 반환합니다.      \n",
    "     if j == m:  \n",
    "    return i\n",
    "5. 만약 일치하는 부분이 없다면 -1을 반환.  \n",
    "     return -1\n"
   ]
  },
  {
   "cell_type": "markdown",
   "metadata": {},
   "source": [
    "### 5)알고리즘 코드"
   ]
  },
  {
   "cell_type": "code",
   "execution_count": null,
   "metadata": {},
   "outputs": [],
   "source": [
    "def find_pattern(T, P):\n",
    "    n = len(T)  \n",
    "    m = len(P)  \n",
    "\n",
    "    for i in range(n - m + 1):\n",
    "        j = 0\n",
    "        while j < m and T[i + j] == P[j]:\n",
    "            j += 1\n",
    "        if j == m:  \n",
    "            return i\n",
    "\n",
    "    return -1  \n",
    "    \n",
    "T = \"ABCDEFG\"\n",
    "P = \"CDE\""
   ]
  },
  {
   "cell_type": "markdown",
   "metadata": {},
   "source": [
    "### 6)테스트 코드"
   ]
  },
  {
   "cell_type": "code",
   "execution_count": null,
   "metadata": {},
   "outputs": [],
   "source": [
    "def find_pattern(T, P):\n",
    "    n = len(T)  \n",
    "    m = len(P)  \n",
    "\n",
    "    for i in range(n - m + 1):\n",
    "        j = 0\n",
    "        while j < m and T[i + j] == P[j]:\n",
    "            j += 1\n",
    "        if j == m:  \n",
    "            return i\n",
    "\n",
    "    return -1 \n",
    "\n",
    "T = \"ABCDEFG\"\n",
    "P = \"CDE\"\n",
    "\n",
    "result = find_pattern(T, P)\n",
    "\n",
    "if result != -1:\n",
    "    print(\"패턴이 처음으로 출현하는 위치:\", result)\n",
    "else:\n",
    "    print(\"패턴이 존재하지 않습니다.\")\n"
   ]
  },
  {
   "cell_type": "markdown",
   "metadata": {},
   "source": [
    "### 7)수행 결과\n",
    "![poster](./chapter3_test.png)"
   ]
  },
  {
   "cell_type": "markdown",
   "metadata": {},
   "source": [
    "### 8)복잡도 계산\n",
    "외부 루프의 시간 복잡도는 O(n - m + 1)  \n",
    "내부 루프의 시간 복잡도는 O(m)  \n",
    "둘이 곱하면  O((n - m + 1) * m) = O(nm)"
   ]
  },
  {
   "cell_type": "markdown",
   "metadata": {},
   "source": [
    "### 9)조별 협력 내용\n",
    "문제를 나누고 다같이 집단지성으로 고민하여 해결했다"
   ]
  },
  {
   "cell_type": "markdown",
   "metadata": {},
   "source": []
  }
 ],
 "metadata": {
  "language_info": {
   "name": "python"
  }
 },
 "nbformat": 4,
 "nbformat_minor": 2
}
